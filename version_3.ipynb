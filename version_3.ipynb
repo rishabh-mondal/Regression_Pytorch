{
 "cells": [
  {
   "cell_type": "code",
   "execution_count": 1,
   "metadata": {},
   "outputs": [],
   "source": [
    "import torch\n",
    "import pandas as pd \n",
    "import numpy as np\n",
    "import matplotlib.pyplot as plt\n",
    "import torch.nn as nn\n",
    "import time\n",
    "import torch.nn.functional as F\n",
    "import torch.optim as optim\n",
    "\n"
   ]
  },
  {
   "cell_type": "code",
   "execution_count": 2,
   "metadata": {},
   "outputs": [
    {
     "data": {
      "text/html": [
       "<div>\n",
       "<style scoped>\n",
       "    .dataframe tbody tr th:only-of-type {\n",
       "        vertical-align: middle;\n",
       "    }\n",
       "\n",
       "    .dataframe tbody tr th {\n",
       "        vertical-align: top;\n",
       "    }\n",
       "\n",
       "    .dataframe thead th {\n",
       "        text-align: right;\n",
       "    }\n",
       "</style>\n",
       "<table border=\"1\" class=\"dataframe\">\n",
       "  <thead>\n",
       "    <tr style=\"text-align: right;\">\n",
       "      <th></th>\n",
       "      <th>time</th>\n",
       "      <th>PM2.5</th>\n",
       "      <th>latitude</th>\n",
       "      <th>longitude</th>\n",
       "    </tr>\n",
       "  </thead>\n",
       "  <tbody>\n",
       "    <tr>\n",
       "      <th>0</th>\n",
       "      <td>2022-01-01 00:30:00</td>\n",
       "      <td>242.00</td>\n",
       "      <td>28.498571</td>\n",
       "      <td>77.26484</td>\n",
       "    </tr>\n",
       "    <tr>\n",
       "      <th>1</th>\n",
       "      <td>2022-01-01 01:30:00</td>\n",
       "      <td>254.75</td>\n",
       "      <td>28.498571</td>\n",
       "      <td>77.26484</td>\n",
       "    </tr>\n",
       "  </tbody>\n",
       "</table>\n",
       "</div>"
      ],
      "text/plain": [
       "                  time   PM2.5   latitude  longitude\n",
       "0  2022-01-01 00:30:00  242.00  28.498571   77.26484\n",
       "1  2022-01-01 01:30:00  254.75  28.498571   77.26484"
      ]
     },
     "execution_count": 2,
     "metadata": {},
     "output_type": "execute_result"
    }
   ],
   "source": [
    "train_data=pd.read_csv('train.csv')\n",
    "test_data=pd.read_csv('test.csv')\n",
    "train_data=train_data.drop(['station','From Date', 'To Date','PM10', 'NO', 'NO2',\n",
    "       'NOx', 'NH3', 'SO2', 'CO', 'Ozone', 'Benzene', 'Toluene', 'RH', 'WS',\n",
    "       'WD', 'SR', 'BP', 'AT', 'RF', 'TOT-RF'],axis=1)\n",
    "test_data=test_data.drop(['station','From Date', 'To Date','PM10', 'NO', 'NO2',\n",
    "       'NOx', 'NH3', 'SO2', 'CO', 'Ozone', 'Benzene', 'Toluene', 'RH', 'WS',\n",
    "       'WD', 'SR', 'BP', 'AT', 'RF', 'TOT-RF'],axis=1)\n",
    "train_data.head(2)\n",
    "test_data.head(2)"
   ]
  },
  {
   "cell_type": "code",
   "execution_count": 3,
   "metadata": {},
   "outputs": [
    {
     "data": {
      "text/html": [
       "<div>\n",
       "<style scoped>\n",
       "    .dataframe tbody tr th:only-of-type {\n",
       "        vertical-align: middle;\n",
       "    }\n",
       "\n",
       "    .dataframe tbody tr th {\n",
       "        vertical-align: top;\n",
       "    }\n",
       "\n",
       "    .dataframe thead th {\n",
       "        text-align: right;\n",
       "    }\n",
       "</style>\n",
       "<table border=\"1\" class=\"dataframe\">\n",
       "  <thead>\n",
       "    <tr style=\"text-align: right;\">\n",
       "      <th></th>\n",
       "      <th>PM2.5</th>\n",
       "      <th>latitude</th>\n",
       "      <th>longitude</th>\n",
       "      <th>Year</th>\n",
       "      <th>Month</th>\n",
       "      <th>Day</th>\n",
       "      <th>Hour</th>\n",
       "      <th>Minute</th>\n",
       "      <th>Second</th>\n",
       "      <th>total_hour</th>\n",
       "    </tr>\n",
       "  </thead>\n",
       "  <tbody>\n",
       "    <tr>\n",
       "      <th>0</th>\n",
       "      <td>242.00</td>\n",
       "      <td>28.498571</td>\n",
       "      <td>77.26484</td>\n",
       "      <td>2022</td>\n",
       "      <td>1</td>\n",
       "      <td>1</td>\n",
       "      <td>0</td>\n",
       "      <td>30</td>\n",
       "      <td>0</td>\n",
       "      <td>1062766110</td>\n",
       "    </tr>\n",
       "    <tr>\n",
       "      <th>1</th>\n",
       "      <td>254.75</td>\n",
       "      <td>28.498571</td>\n",
       "      <td>77.26484</td>\n",
       "      <td>2022</td>\n",
       "      <td>1</td>\n",
       "      <td>1</td>\n",
       "      <td>1</td>\n",
       "      <td>30</td>\n",
       "      <td>0</td>\n",
       "      <td>1062766110</td>\n",
       "    </tr>\n",
       "  </tbody>\n",
       "</table>\n",
       "</div>"
      ],
      "text/plain": [
       "    PM2.5   latitude  longitude  Year  Month  Day  Hour  Minute  Second  \\\n",
       "0  242.00  28.498571   77.26484  2022      1    1     0      30       0   \n",
       "1  254.75  28.498571   77.26484  2022      1    1     1      30       0   \n",
       "\n",
       "   total_hour  \n",
       "0  1062766110  \n",
       "1  1062766110  "
      ]
     },
     "execution_count": 3,
     "metadata": {},
     "output_type": "execute_result"
    }
   ],
   "source": [
    "missing_values = train_data.isnull().sum()\n",
    "#print(missing_values)\n",
    "missing_percent = (train_data.isnull().sum() / len(train_data)) * 100\n",
    "#print(missing_percent)\n",
    "median_PM=train_data['PM2.5'].median()\n",
    "train_data['PM2.5']= train_data['PM2.5'].fillna(median_PM)\n",
    "train_data['time'] = pd.to_datetime(train_data['time'])\n",
    "train_data['Year'] = train_data['time'].dt.year\n",
    "train_data['Month'] = train_data['time'].dt.month\n",
    "train_data['Day'] = train_data['time'].dt.day\n",
    "train_data['Hour'] = train_data['time'].dt.hour\n",
    "train_data['Minute'] = train_data['time'].dt.minute\n",
    "train_data['Second'] = train_data['time'].dt.second\n",
    "train_data=train_data.drop(['time'],axis=1)\n",
    "train_data['total_hour']=train_data['Year']*365*24*60+train_data['Month']*30*24*60+train_data['Day']*24*60+train_data['Minute']\n",
    "missing_percent = (test_data.isnull().sum() / len(test_data)) * 100\n",
    "#print(missing_percent)\n",
    "median_PM= test_data['PM2.5'].median()\n",
    "test_data['PM2.5']= test_data['PM2.5'].fillna(median_PM)\n",
    "test_data['time'] = pd.to_datetime(test_data['time'])\n",
    "test_data['Year'] = test_data['time'].dt.year\n",
    "test_data['Month'] = test_data['time'].dt.month\n",
    "test_data['Day'] = test_data['time'].dt.day\n",
    "test_data['Hour'] = test_data['time'].dt.hour\n",
    "test_data['Minute'] = test_data['time'].dt.minute\n",
    "test_data['Second'] = test_data['time'].dt.second\n",
    "test_data=test_data.drop(['time'],axis=1)\n",
    "test_data['total_hour']=test_data['Year']*365*24*60+test_data['Month']*24*60+test_data['Day']*24*60+test_data['Minute']\n",
    "train_data.head(2)\n",
    "test_data.head(2)"
   ]
  },
  {
   "cell_type": "code",
   "execution_count": 4,
   "metadata": {},
   "outputs": [
    {
     "name": "stdout",
     "output_type": "stream",
     "text": [
      "8\n"
     ]
    }
   ],
   "source": [
    "X_train = torch.tensor(train_data.drop(['PM2.5','total_hour'],axis=1).values).float()\n",
    "y_train = torch.tensor(train_data['PM2.5'].values).float()\n",
    "X_test = torch.tensor(test_data.drop(['PM2.5','total_hour'],axis=1).values).float()\n",
    "y_test = torch.tensor(test_data['PM2.5'].values).float()\n",
    "print(X_train.shape[1])"
   ]
  },
  {
   "cell_type": "code",
   "execution_count": 5,
   "metadata": {},
   "outputs": [
    {
     "name": "stdout",
     "output_type": "stream",
     "text": [
      "Epoch [1/100], Loss: 50771.0078\n",
      "Epoch [1/100], val Loss: 47038.8203\n",
      "Epoch [11/100], Loss: 15249.8721\n",
      "Epoch [11/100], val Loss: 11839.4307\n",
      "Epoch [21/100], Loss: 7270.1709\n",
      "Epoch [21/100], val Loss: 7157.5815\n",
      "Epoch [31/100], Loss: 3173.8115\n",
      "Epoch [31/100], val Loss: 3521.7253\n",
      "Epoch [41/100], Loss: 2246.8008\n",
      "Epoch [41/100], val Loss: 2069.9946\n",
      "Epoch [51/100], Loss: 946.1525\n",
      "Epoch [51/100], val Loss: 1081.6323\n",
      "Epoch [61/100], Loss: 1004.5018\n",
      "Epoch [61/100], val Loss: 925.3271\n",
      "Epoch [71/100], Loss: 927.3514\n",
      "Epoch [71/100], val Loss: 906.7039\n",
      "Epoch [81/100], Loss: 885.3324\n",
      "Epoch [81/100], val Loss: 895.6573\n",
      "Epoch [91/100], Loss: 868.5247\n",
      "Epoch [91/100], val Loss: 864.3107\n"
     ]
    },
    {
     "data": {
      "image/png": "[encoded data removed]",
      "text/plain": [
       "<Figure size 640x480 with 1 Axes>"
      ]
     },
     "metadata": {},
     "output_type": "display_data"
    },
    {
     "name": "stdout",
     "output_type": "stream",
     "text": [
      "Test loss: 832.5598754882812\n"
     ]
    }
   ],
   "source": [
    "\n",
    "def RMSELoss(yhat,y):\n",
    "    return torch.sqrt(torch.mean((yhat-y)**2))\n",
    "\n",
    "input_dim = 8\n",
    "output_dim = 1\n",
    "\n",
    "# Define the weight and bias tensors\n",
    "w1 = torch.randn(input_dim, 64, requires_grad=True)\n",
    "b1 = torch.randn(64, requires_grad=True)\n",
    "w2 = torch.randn(64, 32, requires_grad=True)\n",
    "b2 = torch.randn(32, requires_grad=True)\n",
    "w3 = torch.randn(32, 16, requires_grad=True)\n",
    "b3 = torch.randn(16, requires_grad=True)\n",
    "w4 = torch.randn(16, output_dim, requires_grad=True)\n",
    "b4 = torch.randn(output_dim, requires_grad=True)\n",
    "\n",
    "#model architecture\n",
    "def model(x):\n",
    "    x = torch.matmul(x, w1) + b1\n",
    "    x = F.relu(x)\n",
    "    x = torch.matmul(x, w2) + b2\n",
    "    x = F.relu(x)\n",
    "    x = torch.matmul(x, w3) + b3\n",
    "    x = F.relu(x)\n",
    "    x = torch.matmul(x, w4) + b4\n",
    "    return x\n",
    "\n",
    "# Define the optimizer\n",
    "opti = optim.Adam([w1, b1, w2, b2, w3, b3, w4, b4], lr=0.001)\n",
    "\n",
    "# Train the model\n",
    "train_losses, val_losses = [], []\n",
    "for epoch in range(100):\n",
    "    opti.zero_grad()\n",
    "    outputs = model(X_train)\n",
    "    loss = RMSELoss(outputs, y_train)\n",
    "    loss.backward()\n",
    "    opti.step()\n",
    "    train_losses.append(loss.item())\n",
    "    with torch.no_grad():\n",
    "        val_outputs = model(X_test)\n",
    "        val_loss = RMSELoss(val_outputs, y_test)\n",
    "        val_losses.append(val_loss.item())\n",
    "    if epoch % 10 == 0:\n",
    "        print('Epoch [{}/{}], Loss: {:.4f}'.format(epoch+1, 100, loss.item()))\n",
    "        print('Epoch [{}/{}], val Loss: {:.4f}'.format(epoch+1, 100, val_loss.item()))\n",
    "\n",
    "# Plot the training and validation losses\n",
    "epochs = range(1, len(train_losses) + 1)\n",
    "plt.plot(epochs, train_losses, 'red', label='Training loss')\n",
    "plt.plot(epochs, val_losses, 'green', label='Validation loss')\n",
    "plt.title('Training and validation loss')\n",
    "plt.xlabel('Epochs')\n",
    "plt.ylabel('Loss')\n",
    "plt.legend()\n",
    "plt.show()\n",
    "\n",
    "# Evaluate the model on the test set\n",
    "with torch.no_grad():\n",
    "    test_outputs = model(X_test)\n",
    "    test_loss = RMSELoss(test_outputs, y_test)\n",
    "print('Test loss:', test_loss.item())\n"
   ]
  }
 ],
 "metadata": {
  "kernelspec": {
   "display_name": "base",
   "language": "python",
   "name": "python3"
  },
  "language_info": {
   "codemirror_mode": {
    "name": "ipython",
    "version": 3
   },
   "file_extension": ".py",
   "mimetype": "text/x-python",
   "name": "python",
   "nbconvert_exporter": "python",
   "pygments_lexer": "ipython3",
   "version": "3.10.9"
  },
  "orig_nbformat": 4
 },
 "nbformat": 4,
 "nbformat_minor": 2
}
